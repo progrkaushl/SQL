{
 "cells": [
  {
   "cell_type": "markdown",
   "metadata": {},
   "source": [
    "# Mid Project 1 - Traffic Analysis"
   ]
  },
  {
   "cell_type": "markdown",
   "metadata": {},
   "source": [
    "First let's set up our database on which we will work during this project."
   ]
  },
  {
   "cell_type": "markdown",
   "metadata": {},
   "source": [
    "List out all the database availables.\n",
    "~~~~mysql\n",
    "SHOW DATABASES;\n",
    "~~~~"
   ]
  },
  {
   "cell_type": "markdown",
   "metadata": {},
   "source": [
    "*Output :-*"
   ]
  },
  {
   "cell_type": "markdown",
   "metadata": {},
   "source": [
    "\n",
    "| Database           |\n",
    "|--------------------|\n",
    "| information_schema |\n",
    "| mavenfuzzyfactory  |\n",
    "| mysql              |\n",
    "| performance_schema |\n",
    "| sys                |"
   ]
  },
  {
   "cell_type": "markdown",
   "metadata": {},
   "source": [
    "Select the database for this assignment.\n",
    "~~~~mysql\n",
    "USE mavenfuzzyfactory;\n",
    "~~~~"
   ]
  },
  {
   "cell_type": "markdown",
   "metadata": {},
   "source": [
    "List out tables in the **mavenfuzzyfactory** database.\n",
    "~~~~mysql\n",
    "SHOW TABLES;\n",
    "~~~~"
   ]
  },
  {
   "cell_type": "markdown",
   "metadata": {},
   "source": [
    "*Output :-*"
   ]
  },
  {
   "cell_type": "markdown",
   "metadata": {},
   "source": [
    "| Tables_in_mavenfuzzyfactory |\n",
    "|-----------------------------|\n",
    "| order_item_refunds          |\n",
    "| order_items                 |\n",
    "| orders                      |\n",
    "| products                    |\n",
    "| website_pageviews           |\n",
    "| website_sessions            |\n"
   ]
  },
  {
   "cell_type": "markdown",
   "metadata": {},
   "source": [
    "## Requirement 1"
   ]
  },
  {
   "cell_type": "markdown",
   "metadata": {},
   "source": [
    "### Gsearch seems to be the biggest driver for business. Pull monthly trends for gsearch sessions and orders so that we can showcase growth there?"
   ]
  },
  {
   "cell_type": "markdown",
   "metadata": {},
   "source": [
    "### Solution"
   ]
  },
  {
   "cell_type": "markdown",
   "metadata": {},
   "source": [
    "~~~~mysql\n",
    "SELECT \n",
    "\tYEAR(website_sessions.created_at) AS yr,\n",
    "\tMONTH(website_sessions.created_at) AS mnth,\n",
    "    MONTHNAME(website_sessions.created_at) AS mnth_name,\n",
    "    COUNT(DISTINCT(website_sessions.website_session_id)) AS sessions,\n",
    "    COUNT(DISTINCT(orders.order_id)) AS orders\n",
    "FROM website_sessions\n",
    "\tLEFT JOIN orders\n",
    "\t\tON website_sessions.website_session_id = orders.website_session_id\n",
    "WHERE website_sessions.utm_source = \"gsearch\" AND\n",
    "website_sessions.created_at <= '2012-11-27'\n",
    "GROUP BY \n",
    "\tyr,\t\n",
    "\tmnth\n",
    "ORDER BY \n",
    "\tmnth ASC\n",
    ";\n",
    "~~~~"
   ]
  },
  {
   "cell_type": "markdown",
   "metadata": {},
   "source": [
    "*Output :-*"
   ]
  },
  {
   "cell_type": "markdown",
   "metadata": {},
   "source": [
    "| yr   | mnth | mnth_name | sessions | orders |\n",
    "|------|------|-----------|----------|--------|\n",
    "| 2012 |    3 | March     |     1816 |     59 |\n",
    "| 2012 |    4 | April     |     3558 |     93 |\n",
    "| 2012 |    5 | May       |     3398 |     95 |\n",
    "| 2012 |    6 | June      |     3616 |    120 |\n",
    "| 2012 |    7 | July      |     3752 |    146 |\n",
    "| 2012 |    8 | August    |     4895 |    185 |\n",
    "| 2012 |    9 | September |     4517 |    185 |\n",
    "| 2012 |   10 | October   |     5452 |    233 |\n",
    "| 2012 |   11 | November  |     8045 |    338 |"
   ]
  },
  {
   "cell_type": "markdown",
   "metadata": {},
   "source": [
    "## Requirement 2"
   ]
  },
  {
   "cell_type": "markdown",
   "metadata": {},
   "source": [
    "### Check for similarity monthly trend for Gsearch, split out the nonbrand and brand campaign sperately."
   ]
  },
  {
   "cell_type": "markdown",
   "metadata": {},
   "source": [
    "### Solution"
   ]
  },
  {
   "cell_type": "markdown",
   "metadata": {},
   "source": [
    "~~~~mysql\n",
    "SELECT \n",
    "\tYEAR(website_sessions.created_at) AS yr,\n",
    "\tMONTH(website_sessions.created_at) AS mnth,\n",
    "    MONTHNAME(website_sessions.created_at) AS mnth_name,\n",
    "    COUNT(DISTINCT(CASE WHEN utm_campaign = \"nonbrand\" THEN website_sessions.website_session_id ELSE NULL END)) AS nonbrand_sessions,\n",
    "    COUNT(DISTINCT(CASE WHEN utm_campaign = \"brand\" THEN orders.order_id ELSE NULL END)) AS brand_sessions,\n",
    "    COUNT(DISTINCT(CASE WHEN utm_campaign = \"nonbrand\" THEN website_sessions.website_session_id ELSE NULL END)) AS nonbrand_orders,\n",
    "    COUNT(DISTINCT(CASE WHEN utm_campaign = \"brand\" THEN orders.order_id ELSE NULL END)) AS brand_orders\n",
    "FROM website_sessions\n",
    "\tLEFT JOIN orders\n",
    "\t\tON website_sessions.website_session_id = orders.website_session_id\n",
    "WHERE website_sessions.utm_source = \"gsearch\" AND\n",
    "website_sessions.created_at <= '2012-11-27'\n",
    "GROUP BY \n",
    "\tyr,\t\n",
    "\tmnth\n",
    "ORDER BY \n",
    "\tmnth ASC\n",
    ";\n",
    "~~~~"
   ]
  },
  {
   "cell_type": "markdown",
   "metadata": {},
   "source": [
    "*Output :-*"
   ]
  },
  {
   "cell_type": "markdown",
   "metadata": {},
   "source": [
    "| yr   | mnth | mnth_name | nonbrand_sessions | brand_sessions | nonbrand_orders | brand_orders |\n",
    "|------|------|-----------|-------------------|----------------|-----------------|--------------|\n",
    "| 2012 |    3 | March     |              1808 |              0 |            1808 |            0 |\n",
    "| 2012 |    4 | April     |              3497 |              6 |            3497 |            6 |\n",
    "| 2012 |    5 | May       |              3283 |              6 |            3283 |            6 |\n",
    "| 2012 |    6 | June      |              3477 |              6 |            3477 |            6 |\n",
    "| 2012 |    7 | July      |              3599 |             10 |            3599 |           10 |\n",
    "| 2012 |    8 | August    |              4694 |             10 |            4694 |           10 |\n",
    "| 2012 |    9 | September |              4250 |             16 |            4250 |           16 |\n",
    "| 2012 |   10 | October   |              5125 |             14 |            5125 |           14 |\n",
    "| 2012 |   11 | November  |              7677 |             18 |            7677 |           18 |"
   ]
  },
  {
   "cell_type": "markdown",
   "metadata": {},
   "source": [
    "## Requirement 3"
   ]
  },
  {
   "cell_type": "markdown",
   "metadata": {},
   "source": [
    "### Dive into gsearch nonbrand and pull monthly sessions and orders split by device type."
   ]
  },
  {
   "cell_type": "markdown",
   "metadata": {},
   "source": [
    "### Solution"
   ]
  },
  {
   "cell_type": "markdown",
   "metadata": {},
   "source": [
    "~~~~mysql\n",
    "SELECT \n",
    "\tYEAR(website_sessions.created_at) AS yr,\n",
    "\tMONTH(website_sessions.created_at) AS mnth,\n",
    "    MONTHNAME(website_sessions.created_at) AS mnth_name,\n",
    "    COUNT(DISTINCT(CASE WHEN website_sessions.device_type=\"mobile\" THEN website_sessions.website_session_id ELSE NULL END)) AS mobile_sessions,\n",
    "    COUNT(DISTINCT(CASE WHEN website_sessions.device_type=\"desktop\" THEN website_sessions.website_session_id ELSE NULL END)) AS desktop_sessions,\n",
    "    COUNT(DISTINCT(CASE WHEN website_sessions.device_type=\"mobile\" THEN orders.order_id ELSE NULL END)) AS mobile_orders,\n",
    "    COUNT(DISTINCT(CASE WHEN website_sessions.device_type=\"desktop\" THEN orders.order_id ELSE NULL END)) AS desktop_orders\n",
    "FROM website_sessions\n",
    "\tLEFT JOIN orders\n",
    "\t\tON website_sessions.website_session_id = orders.website_session_id\n",
    "WHERE website_sessions.utm_source = \"gsearch\" AND\n",
    "website_sessions.utm_campaign = \"nonbrand\" AND\n",
    "website_sessions.created_at <= '2012-11-27'\n",
    "GROUP BY \n",
    "\tyr,\t\n",
    "\tmnth\n",
    "ORDER BY \n",
    "\tmnth ASC\n",
    ";\n",
    "~~~~"
   ]
  },
  {
   "cell_type": "markdown",
   "metadata": {},
   "source": [
    "*Output :-*"
   ]
  },
  {
   "cell_type": "markdown",
   "metadata": {},
   "source": [
    "| yr   | mnth | mnth_name | mobile_sessions | desktop_sessions | mobile_orders | desktop_orders |\n",
    "|------|------|-----------|-----------------|------------------|---------------|----------------|\n",
    "| 2012 |    3 | March     |             702 |             1106 |            10 |             49 |\n",
    "| 2012 |    4 | April     |            1366 |             2131 |            11 |             76 |\n",
    "| 2012 |    5 | May       |            1031 |             2252 |             8 |             81 |\n",
    "| 2012 |    6 | June      |             776 |             2701 |             8 |            106 |\n",
    "| 2012 |    7 | July      |             866 |             2733 |            14 |            122 |\n",
    "| 2012 |    8 | August    |            1163 |             3531 |             9 |            166 |\n",
    "| 2012 |    9 | September |            1061 |             3189 |            15 |            154 |\n",
    "| 2012 |   10 | October   |            1253 |             3872 |            20 |            199 |\n",
    "| 2012 |   11 | November  |            1844 |             5833 |            29 |            291 |"
   ]
  },
  {
   "cell_type": "markdown",
   "metadata": {},
   "source": [
    "## Requirement 4"
   ]
  },
  {
   "cell_type": "markdown",
   "metadata": {},
   "source": [
    "### Pull monthly trends for Gsearch, alongside monthly trends for each of our other channels?"
   ]
  },
  {
   "cell_type": "markdown",
   "metadata": {},
   "source": [
    "### Solution"
   ]
  },
  {
   "cell_type": "markdown",
   "metadata": {},
   "source": [
    "~~~mysql\n",
    "SELECT \n",
    "\tYEAR(website_sessions.created_at) AS yr,\n",
    "\tMONTH(website_sessions.created_at) AS mnth,\n",
    "    MONTHNAME(website_sessions.created_at) AS mnth_name,\n",
    "    COUNT(DISTINCT(CASE WHEN website_sessions.utm_source=\"gsearch\" THEN website_sessions.website_session_id ELSE NULL END)) AS gsearch_sessions,\n",
    "    COUNT(DISTINCT(CASE WHEN website_sessions.utm_source=\"bsearch\" THEN website_sessions.website_session_id ELSE NULL END)) AS bsearch_sessions,\n",
    "    COUNT(DISTINCT(CASE WHEN website_sessions.utm_source=\"socialbook\" THEN website_sessions.website_session_id ELSE NULL END)) AS socialbook_sessions,\n",
    "    COUNT(DISTINCT CASE WHEN utm_source IS NULL AND http_referer IS NOT NULL THEN website_sessions.website_session_id ELSE NULL END) AS referral_sessions,\n",
    "    COUNT(DISTINCT CASE WHEN utm_source IS NULL AND http_referer IS NULL THEN website_sessions.website_session_id ELSE NULL END) AS organic_sessions\n",
    "FROM website_sessions\n",
    "\tLEFT JOIN orders\n",
    "\t\tON website_sessions.website_session_id = orders.website_session_id\n",
    "WHERE \n",
    "website_sessions.created_at <= '2012-11-27'\n",
    "GROUP BY \n",
    "\tyr,\t\n",
    "\tmnth\n",
    "ORDER BY \n",
    "\tmnth ASC\n",
    ";\n",
    "~~~~"
   ]
  },
  {
   "cell_type": "markdown",
   "metadata": {},
   "source": [
    "*Output :-*"
   ]
  },
  {
   "cell_type": "markdown",
   "metadata": {},
   "source": [
    "| yr   | mnth | mnth_name | gsearch_sessions | bsearch_sessions | socialbook_sessions | referral_sessions | organic_sessions |\n",
    "|------|------|-----------|------------------|------------------|---------------------|-------------------|------------------|\n",
    "| 2012 |    3 | March     |             1816 |                2 |                   0 |                 8 |                9 |\n",
    "| 2012 |    4 | April     |             3558 |               11 |                   0 |                75 |               69 |\n",
    "| 2012 |    5 | May       |             3398 |               24 |                   0 |               147 |              148 |\n",
    "| 2012 |    6 | June      |             3616 |               26 |                   0 |               196 |              173 |\n",
    "| 2012 |    7 | July      |             3752 |               43 |                   0 |               202 |              183 |\n",
    "| 2012 |    8 | August    |             4895 |              680 |                   0 |               266 |              249 |\n",
    "| 2012 |    9 | September |             4517 |             1443 |                   0 |               333 |              288 |\n",
    "| 2012 |   10 | October   |             5452 |             1757 |                   0 |               420 |              437 |\n",
    "| 2012 |   11 | November  |             8045 |             2581 |                   0 |               508 |              466 |"
   ]
  },
  {
   "cell_type": "markdown",
   "metadata": {},
   "source": [
    "## Requirement 5"
   ]
  },
  {
   "cell_type": "markdown",
   "metadata": {},
   "source": [
    "### Pull session to order conversion rates, by months for first 8 months."
   ]
  },
  {
   "cell_type": "markdown",
   "metadata": {},
   "source": [
    "### Solution"
   ]
  },
  {
   "cell_type": "markdown",
   "metadata": {},
   "source": [
    "~~~~mysql\n",
    "SELECT \n",
    "\tYEAR(website_sessions.created_at) AS yr,\n",
    "\tMONTH(website_sessions.created_at) AS mnth,\n",
    "    MONTHNAME(website_sessions.created_at) AS mnth_name,\n",
    "    COUNT(DISTINCT(website_sessions.website_session_id)) AS sessions,\n",
    "    COUNT(DISTINCT(orders.order_id)) AS orders,\n",
    "    (COUNT(DISTINCT(orders.order_id)) / \n",
    "    COUNT(DISTINCT(website_sessions.website_session_id))) AS session_order_cvr\n",
    "FROM website_sessions\n",
    "\tLEFT JOIN orders\n",
    "\t\tON website_sessions.website_session_id = orders.website_session_id\n",
    "WHERE \n",
    "website_sessions.created_at <= '2012-11-27'\n",
    "GROUP BY \n",
    "\tyr,\t\n",
    "\tmnth\n",
    "ORDER BY \n",
    "\tmnth ASC\n",
    "LIMIT 8\n",
    ";\n",
    "~~~~"
   ]
  },
  {
   "cell_type": "markdown",
   "metadata": {},
   "source": [
    "*Output :-*"
   ]
  },
  {
   "cell_type": "markdown",
   "metadata": {},
   "source": [
    "| yr   | mnth | mnth_name | sessions | orders | session_order_cvr |\n",
    "|------|------|-----------|----------|--------|-------------------|\n",
    "| 2012 |    3 | March     |     1835 |     59 |            0.0322 |\n",
    "| 2012 |    4 | April     |     3713 |    100 |            0.0269 |\n",
    "| 2012 |    5 | May       |     3717 |    106 |            0.0285 |\n",
    "| 2012 |    6 | June      |     4011 |    139 |            0.0347 |\n",
    "| 2012 |    7 | July      |     4180 |    170 |            0.0407 |\n",
    "| 2012 |    8 | August    |     6090 |    229 |            0.0376 |\n",
    "| 2012 |    9 | September |     6581 |    284 |            0.0432 |\n",
    "| 2012 |   10 | October   |     8066 |    363 |            0.0450 |"
   ]
  },
  {
   "cell_type": "markdown",
   "metadata": {},
   "source": [
    "## Requirement 6"
   ]
  },
  {
   "cell_type": "markdown",
   "metadata": {},
   "source": [
    "### For the gsearch lander test, estimate the revenue that test generated."
   ]
  },
  {
   "cell_type": "markdown",
   "metadata": {},
   "source": [
    "(Hint: Look at the increase in CVR from the test (Jun 19 – Jul 28), and use nonbrand sessions and revenue since then to calculate incremental value)"
   ]
  },
  {
   "cell_type": "markdown",
   "metadata": {},
   "source": [
    "### Solution"
   ]
  },
  {
   "cell_type": "markdown",
   "metadata": {},
   "source": [
    "First find out the first pageview_id for '/lander-1' i.e. id of first pageview when test page was launched, the subquery inside **WHERE** clause will do this.\n",
    "\n",
    "Then get the first pageview_id & pageview_url for each website_session_id after the launch of test '/lander-1' and where pageview_url either '/home' or '/lander-1'."
   ]
  },
  {
   "cell_type": "markdown",
   "metadata": {},
   "source": [
    "~~~~mysql\n",
    "CREATE TEMPORARY TABLE gsearch_nonbrand_firstPV\n",
    "SELECT \n",
    "\twebsite_sessions.website_session_id AS website_session_id,\n",
    "\tMIN(website_pageviews.website_pageview_id) AS first_pv,\n",
    "    website_pageviews.pageview_url AS pv_url\n",
    "FROM website_pageviews\n",
    "\tLEFT JOIN website_sessions\n",
    "\t\tON website_pageviews.website_session_id = website_sessions.website_session_id\n",
    "WHERE website_pageviews.website_pageview_id >= (\n",
    "    -- Find pageview_id when '/lander-1' was launched\n",
    "\tSELECT\n",
    "\t\tMIN(website_pageview_id) AS first_pv\n",
    "\tFROM website_pageviews\n",
    "\tWHERE pageview_url = \"/lander-1\"\n",
    ") \n",
    "AND website_sessions.created_at < '2012-07-28' \n",
    "AND website_sessions.utm_source = \"gsearch\" \n",
    "AND website_sessions.utm_campaign = \"nonbrand\" \n",
    "AND website_pageviews.pageview_url IN ('/home', '/lander-1')\n",
    "GROUP BY\n",
    "\twebsite_sessions.website_session_id\n",
    ";\n",
    "~~~~"
   ]
  },
  {
   "cell_type": "markdown",
   "metadata": {},
   "source": [
    "*Output :-*"
   ]
  },
  {
   "cell_type": "markdown",
   "metadata": {},
   "source": [
    "~~~~mysql\n",
    "SELECT * FROM gsearch_nonbrand_firstPV LIMIT 5;\n",
    "~~~~"
   ]
  },
  {
   "cell_type": "markdown",
   "metadata": {},
   "source": [
    "| website_session_id | first_pv | pv_url    |\n",
    "|--------------------|----------|-----------|\n",
    "|              11683 |    23504 | /lander-1 |\n",
    "|              11684 |    23505 | /home     |\n",
    "|              11685 |    23506 | /lander-1 |\n",
    "|              11686 |    23507 | /lander-1 |\n",
    "|              11687 |    23509 | /home     |"
   ]
  },
  {
   "cell_type": "markdown",
   "metadata": {},
   "source": [
    "Get the order_id for each website_sesson_id in temporary table **gsearch_nonbrand_firstPV**"
   ]
  },
  {
   "cell_type": "markdown",
   "metadata": {},
   "source": [
    "~~~~mysql\n",
    "CREATE TEMPORARY TABLE gsearch_nonbrand_firstPV_w_orderId\n",
    "SELECT \n",
    "\tgsearch_nonbrand_firstPV.website_session_id AS website_session_id,\n",
    "    gsearch_nonbrand_firstPV.pv_url AS pv_url,\n",
    "    orders.order_id AS order_id\n",
    "FROM gsearch_nonbrand_firstPV\n",
    "\tLEFT JOIN orders\n",
    "\t\tON gsearch_nonbrand_firstPV.website_session_id = orders.website_session_id\n",
    ";\n",
    "~~~~"
   ]
  },
  {
   "cell_type": "markdown",
   "metadata": {},
   "source": [
    "*Output :-*"
   ]
  },
  {
   "cell_type": "markdown",
   "metadata": {},
   "source": [
    "~~~~mysql\n",
    "SELECT * FROM gsearch_nonbrand_firstPV_w_orderId LIMIT 5;\n",
    "~~~~"
   ]
  },
  {
   "cell_type": "markdown",
   "metadata": {},
   "source": [
    "| website_session_id | pv_url    | order_id |\n",
    "|--------------------|-----------|----------|\n",
    "|              11683 | /lander-1 |     NULL |\n",
    "|              11684 | /home     |     NULL |\n",
    "|              11685 | /lander-1 |     NULL |\n",
    "|              11686 | /lander-1 |     NULL |\n",
    "|              11687 | /home     |     NULL |"
   ]
  },
  {
   "cell_type": "markdown",
   "metadata": {},
   "source": [
    "Get the number of sessions, orders and CVR for each pageview_url from temporary table **gsearch_nonbrand_firstPV_w_orderId**"
   ]
  },
  {
   "cell_type": "markdown",
   "metadata": {},
   "source": [
    "~~~~mysql\n",
    "SELECT\n",
    "\tpv_url, \n",
    "    COUNT(DISTINCT website_session_id) AS sessions, \n",
    "    COUNT(DISTINCT order_id) AS orders,\n",
    "    COUNT(DISTINCT order_id)/COUNT(DISTINCT website_session_id) AS conv_rate\n",
    "FROM gsearch_nonbrand_firstPV_w_orderId\n",
    "GROUP BY pv_url\n",
    ";\n",
    "~~~~"
   ]
  },
  {
   "cell_type": "markdown",
   "metadata": {},
   "source": [
    "*Output :-*"
   ]
  },
  {
   "cell_type": "markdown",
   "metadata": {},
   "source": [
    "| pv_url    | sessions | orders | conv_rate |\n",
    "|-----------|----------|--------|-----------|\n",
    "| /home     |     2234 |     71 |    0.0318 |\n",
    "| /lander-1 |     2287 |     94 |    0.0411 |"
   ]
  },
  {
   "cell_type": "markdown",
   "metadata": {},
   "source": [
    "~~~~mysql\n",
    "SELECT \n",
    "\tCOUNT(website_session_id) AS sessions_since_test\n",
    "FROM website_sessions\n",
    "WHERE created_at < '2012-11-27'\n",
    "\tAND website_session_id > (\n",
    "\t\t--  most recent pageview for gsearch nonbrand where the traffic was sent to /home\n",
    "\t\tSELECT \n",
    "\t\t\tMAX(website_sessions.website_session_id) AS most_recent_gsearch_nonbrand_home_pageview \n",
    "\t\tFROM website_sessions \n",
    "\t\t\tLEFT JOIN website_pageviews \n",
    "\t\t\t\tON website_pageviews.website_session_id = website_sessions.website_session_id\n",
    "\t\tWHERE utm_source = 'gsearch'\n",
    "\t\t\tAND utm_campaign = 'nonbrand'\n",
    "\t\t\tAND pageview_url = '/home'\n",
    "\t\t\tAND website_sessions.created_at < '2012-11-27'\n",
    "    )\n",
    "\tAND utm_source = 'gsearch'\n",
    "\tAND utm_campaign = 'nonbrand'\n",
    ";\n",
    "~~~~"
   ]
  },
  {
   "cell_type": "markdown",
   "metadata": {},
   "source": [
    "*Output :-*"
   ]
  },
  {
   "cell_type": "markdown",
   "metadata": {},
   "source": [
    "| sessions_since_test |\n",
    "|---------------------|\n",
    "|               22024 |"
   ]
  },
  {
   "cell_type": "markdown",
   "metadata": {},
   "source": [
    "## Requirement 7"
   ]
  },
  {
   "cell_type": "markdown",
   "metadata": {},
   "source": [
    "### For the landing page test analyzed previously, show a full conversion funnel from each of the two pages to orders."
   ]
  },
  {
   "cell_type": "markdown",
   "metadata": {},
   "source": [
    "Use the time period as last time (Jun 19 – Jul 28)."
   ]
  },
  {
   "cell_type": "markdown",
   "metadata": {},
   "source": [
    "### Solution"
   ]
  },
  {
   "cell_type": "markdown",
   "metadata": {},
   "source": [
    "Check clicks on each pages for each session id"
   ]
  },
  {
   "cell_type": "markdown",
   "metadata": {},
   "source": [
    "~~~~mysql\n",
    "CREATE TEMPORARY TABLE pageview_level_clk\n",
    "SELECT \n",
    "\twebsite_sessions.website_session_id AS website_session_id, \n",
    "    website_pageviews.pageview_url AS pageview_url,\n",
    "\tCASE WHEN website_pageviews.pageview_url = '/home' THEN 1 ELSE 0 END AS homepage,\n",
    "    CASE WHEN website_pageviews.pageview_url = '/lander-1' THEN 1 ELSE 0 END AS test_lander,\n",
    "    CASE WHEN website_pageviews.pageview_url = '/products' THEN 1 ELSE 0 END AS products,\n",
    "    CASE WHEN website_pageviews.pageview_url = '/the-original-mr-fuzzy' THEN 1 ELSE 0 END AS mrfuzzy,\n",
    "    CASE WHEN website_pageviews.pageview_url = '/cart' THEN 1 ELSE 0 END AS cart,\n",
    "    CASE WHEN website_pageviews.pageview_url = '/shipping' THEN 1 ELSE 0 END AS shipping,\n",
    "    CASE WHEN website_pageviews.pageview_url = '/billing' THEN 1 ELSE 0 END AS billing,\n",
    "    CASE WHEN website_pageviews.pageview_url = '/thank-you-for-your-order' THEN 1 ELSE 0 END AS thankyou\n",
    "FROM website_sessions\n",
    "\tLEFT JOIN website_pageviews\n",
    "\t\tON website_sessions.website_session_id = website_pageviews.website_session_id\n",
    "WHERE website_sessions.utm_source = 'gsearch' \n",
    "\tAND website_sessions.utm_campaign = 'nonbrand' \n",
    "    AND website_sessions.created_at < '2012-07-28'\n",
    "    AND website_sessions.created_at > '2012-06-19'\n",
    "ORDER BY \n",
    "\twebsite_sessions.website_session_id,\n",
    "    website_pageviews.created_at\n",
    ";\n",
    "~~~~"
   ]
  },
  {
   "cell_type": "markdown",
   "metadata": {},
   "source": [
    "*Output :-*"
   ]
  },
  {
   "cell_type": "markdown",
   "metadata": {},
   "source": [
    "~~~~mysql\n",
    "SELECT * FROM pageview_level_clk LIMIT 5;\n",
    "~~~~"
   ]
  },
  {
   "cell_type": "markdown",
   "metadata": {},
   "source": [
    "| website_session_id | pageview_url           | homepage | test_lander | products | mrfuzzy | cart | shipping | billing | thankyou |\n",
    "|--------------------|------------------------|----------|-------------|----------|---------|------|----------|---------|----------|\n",
    "|              11618 | /home                  |        1 |           0 |        0 |       0 |    0 |        0 |       0 |        0 |\n",
    "|              11618 | /products              |        0 |           0 |        1 |       0 |    0 |        0 |       0 |        0 |\n",
    "|              11618 | /the-original-mr-fuzzy |        0 |           0 |        0 |       1 |    0 |        0 |       0 |        0 |\n",
    "|              11618 | /cart                  |        0 |           0 |        0 |       0 |    1 |        0 |       0 |        0 |\n",
    "|              11618 | /shipping              |        0 |           0 |        0 |       0 |    0 |        1 |       0 |        0 |"
   ]
  },
  {
   "cell_type": "markdown",
   "metadata": {},
   "source": [
    "~~~~mysql\n",
    "CREATE TEMPORARY TABLE session_level_clk\n",
    "SELECT \n",
    "\twebsite_session_id,\n",
    "\tMAX(homepage) AS homepage_clk,\n",
    "    MAX(test_lander) AS test_lander_clk,\n",
    "    MAX(products) AS products_clk,\n",
    "    MAX(mrfuzzy) AS mrfuzzy_clk,\n",
    "    MAX(cart) AS cart_clk,\n",
    "    MAX(shipping) AS shipping_clk,\n",
    "    MAX(billing) AS billing_clk,\n",
    "    MAX(thankyou) AS thankyou_clk\n",
    "FROM pageview_level_clk\n",
    "GROUP BY website_session_id\n",
    ";\n",
    "~~~~"
   ]
  },
  {
   "cell_type": "markdown",
   "metadata": {},
   "source": [
    "*Output :-*"
   ]
  },
  {
   "cell_type": "markdown",
   "metadata": {},
   "source": [
    "~~~~mysql\n",
    "SELECT * FROM session_level_clk LIMIT 5;\n",
    "~~~~"
   ]
  },
  {
   "cell_type": "markdown",
   "metadata": {},
   "source": [
    "| website_session_id | homepage_clk | test_lander_clk | products_clk | mrfuzzy_clk | cart_clk | shipping_clk | billing_clk | thankyou_clk |\n",
    "|--------------------|--------------|-----------------|--------------|-------------|----------|--------------|-------------|--------------|\n",
    "|              11618 |            1 |               0 |            1 |           1 |        1 |            1 |           1 |            1 |\n",
    "|              11619 |            1 |               0 |            0 |           0 |        0 |            0 |           0 |            0 |\n",
    "|              11620 |            1 |               0 |            1 |           1 |        1 |            1 |           0 |            0 |\n",
    "|              11621 |            1 |               0 |            1 |           0 |        0 |            0 |           0 |            0 |\n",
    "|              11622 |            1 |               0 |            0 |           0 |        0 |            0 |           0 |            0 |"
   ]
  },
  {
   "cell_type": "markdown",
   "metadata": {},
   "source": [
    "~~~~mysql\n",
    "SELECT \n",
    "\tCASE \n",
    "\t\tWHEN homepage_clk = 1 THEN 'saw_homepage'\n",
    "\t\tWHEN test_lander_clk = 1 THEN 'saw_test_lander'\n",
    "\t\tELSE 'error' \n",
    "    END AS segment,\n",
    "    COUNT(DISTINCT website_session_id) AS sessions,\n",
    "    COUNT(DISTINCT CASE WHEN products_clk = 1 THEN website_session_id ELSE NULL END) AS to_products,\n",
    "    COUNT(DISTINCT CASE WHEN mrfuzzy_clk = 1 THEN website_session_id ELSE NULL END) AS to_mrfuzzy,\n",
    "    COUNT(DISTINCT CASE WHEN cart_clk = 1 THEN website_session_id ELSE NULL END) AS to_cart,\n",
    "    COUNT(DISTINCT CASE WHEN shipping_clk = 1 THEN website_session_id ELSE NULL END) AS to_shipping,\n",
    "    COUNT(DISTINCT CASE WHEN billing_clk = 1 THEN website_session_id ELSE NULL END) AS to_billing,\n",
    "    COUNT(DISTINCT CASE WHEN thankyou_clk = 1 THEN website_session_id ELSE NULL END) AS to_thankyou\n",
    "FROM session_level_clk\n",
    "GROUP BY segment\n",
    ";\n",
    "~~~~"
   ]
  },
  {
   "cell_type": "markdown",
   "metadata": {},
   "source": [
    "*Output :-*"
   ]
  },
  {
   "cell_type": "markdown",
   "metadata": {},
   "source": [
    "| segment         | sessions | to_products | to_mrfuzzy | to_cart | to_shipping | to_billing | to_thankyou |\n",
    "|-----------------|----------|-------------|------------|---------|-------------|------------|-------------|\n",
    "| saw_homepage    |     2288 |         964 |        699 |     304 |         205 |        173 |          75 |\n",
    "| saw_test_lander |     2287 |        1073 |        767 |     345 |         229 |        195 |          94 |"
   ]
  },
  {
   "cell_type": "markdown",
   "metadata": {},
   "source": [
    "## Requirement 8"
   ]
  },
  {
   "cell_type": "markdown",
   "metadata": {},
   "source": [
    "### Quantify the impact of our billing test, as well. Analyze the lift generated from the test (Sep 10 – Nov 10), in terms of revenue per billing page session, and then pull the number of billing page sessions for the past month to understand monthly impact."
   ]
  },
  {
   "cell_type": "markdown",
   "metadata": {},
   "source": [
    "### Solution"
   ]
  },
  {
   "cell_type": "markdown",
   "metadata": {},
   "source": [
    "Get the billing page version and price for each session and order and then ratio of sum of price and count of session id as revenue per serssion for each billing page. "
   ]
  },
  {
   "cell_type": "markdown",
   "metadata": {},
   "source": [
    "~~~~mysql\n",
    "SELECT\n",
    "\tbilling_version_seen, \n",
    "    COUNT(DISTINCT website_session_id) AS sessions, \n",
    "    SUM(price_usd)/COUNT(DISTINCT website_session_id) AS revenue_per_billing_page_seen\n",
    " FROM( \n",
    "\t\t-- this subquery provides billing page version and order price of each session and order respectively\n",
    "\t\tSELECT \n",
    "\t\t\twebsite_pageviews.website_session_id, \n",
    "\t\t\twebsite_pageviews.pageview_url AS billing_version_seen, \n",
    "\t\t\torders.order_id, \n",
    "\t\t\torders.price_usd\n",
    "\t\tFROM website_pageviews \n",
    "\t\t\tLEFT JOIN orders\n",
    "\t\t\t\tON orders.website_session_id = website_pageviews.website_session_id\n",
    "\t\tWHERE website_pageviews.created_at > '2012-09-10' -- prescribed in assignment\n",
    "\t\t\tAND website_pageviews.created_at < '2012-11-10' -- prescribed in assignment\n",
    "\t\t\tAND website_pageviews.pageview_url IN ('/billing','/billing-2')\n",
    "\t) AS billing_pageviews_and_order_data\n",
    "GROUP BY billing_version_seen\n",
    ";\n",
    "~~~~"
   ]
  },
  {
   "cell_type": "markdown",
   "metadata": {},
   "source": [
    "| billing_version_seen | sessions | revenue_per_billing_page_seen |\n",
    "|----------------------|----------|-------------------------------|\n",
    "| /billing             |      656 |                     23.013689 |\n",
    "| /billing-2           |      649 |                     31.349661 |"
   ]
  },
  {
   "cell_type": "markdown",
   "metadata": {},
   "source": [
    "Count session id for all billing page versions for last month."
   ]
  },
  {
   "cell_type": "markdown",
   "metadata": {},
   "source": [
    "~~~~mysql\n",
    "SELECT \n",
    "\tCOUNT(website_session_id) AS billing_sessions_past_month\n",
    "FROM website_pageviews \n",
    "WHERE website_pageviews.pageview_url IN ('/billing','/billing-2') \n",
    "\tAND created_at BETWEEN '2012-10-27' AND '2012-11-27' -- past month\n",
    ";\n",
    "~~~~"
   ]
  },
  {
   "cell_type": "markdown",
   "metadata": {},
   "source": [
    "| billing_sessions_past_month |\n",
    "|-----------------------------|\n",
    "|                        1091 |"
   ]
  }
 ],
 "metadata": {
  "kernelspec": {
   "display_name": "Python 3",
   "language": "python",
   "name": "python3"
  },
  "language_info": {
   "codemirror_mode": {
    "name": "ipython",
    "version": 3
   },
   "file_extension": ".py",
   "mimetype": "text/x-python",
   "name": "python",
   "nbconvert_exporter": "python",
   "pygments_lexer": "ipython3",
   "version": "3.8.5"
  }
 },
 "nbformat": 4,
 "nbformat_minor": 4
}
