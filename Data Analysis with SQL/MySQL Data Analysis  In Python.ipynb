{
 "cells": [
  {
   "cell_type": "markdown",
   "metadata": {},
   "source": [
    "# MySQL Data Analysis Assignments"
   ]
  },
  {
   "cell_type": "markdown",
   "metadata": {},
   "source": [
    "## MySQL Python Connection Basics"
   ]
  },
  {
   "cell_type": "code",
   "execution_count": 1,
   "metadata": {},
   "outputs": [],
   "source": [
    "## importing 'mysql.connector' as mysql for convenient\n",
    "import mysql.connector as mysql\n",
    "import pandas as pd\n",
    "import openpyxl"
   ]
  },
  {
   "cell_type": "markdown",
   "metadata": {},
   "source": [
    "Dictionary of parameters to connect to MySQL database. \n",
    "\n",
    "Connecting to the database using 'connect()' method takes 3 required parameters `host`, `user`, `password / passwd`"
   ]
  },
  {
   "cell_type": "code",
   "execution_count": 2,
   "metadata": {},
   "outputs": [],
   "source": [
    "config = {\n",
    "    'host':'localhost',\n",
    "    'user':'root',\n",
    "    'password':'root',\n",
    "}"
   ]
  },
  {
   "cell_type": "markdown",
   "metadata": {},
   "source": [
    "Connect to MySQL database"
   ]
  },
  {
   "cell_type": "code",
   "execution_count": 3,
   "metadata": {},
   "outputs": [],
   "source": [
    "db = mysql.connect(**config)"
   ]
  },
  {
   "cell_type": "markdown",
   "metadata": {},
   "source": [
    "Creating an instance of 'cursor' class which is used to execute the 'SQL' statements in 'Python'"
   ]
  },
  {
   "cell_type": "code",
   "execution_count": 4,
   "metadata": {},
   "outputs": [],
   "source": [
    "cursor = db.cursor(buffered=True)"
   ]
  },
  {
   "cell_type": "code",
   "execution_count": 5,
   "metadata": {},
   "outputs": [],
   "source": [
    "# assign mysql query to a variable\n",
    "query = '''SHOW DATABASES'''"
   ]
  },
  {
   "cell_type": "markdown",
   "metadata": {},
   "source": [
    "`execute()` method is used to compile a 'SQL' statement"
   ]
  },
  {
   "cell_type": "code",
   "execution_count": 6,
   "metadata": {},
   "outputs": [],
   "source": [
    "cursor.execute(query)"
   ]
  },
  {
   "cell_type": "markdown",
   "metadata": {},
   "source": [
    "- `fetchall()` method fetches all the rows from the last executed statement.\n",
    "- Use only when query returns some output, if query doesn't return any output then fetchall will throw an error `No result set to fecth from.`"
   ]
  },
  {
   "cell_type": "code",
   "execution_count": 7,
   "metadata": {},
   "outputs": [
    {
     "name": "stdout",
     "output_type": "stream",
     "text": [
      "[('employees',), ('information_schema',), ('mavenfuzzyfactory',), ('mysql',), ('performance_schema',), ('sakila',), ('sql_hr',), ('sql_inventory',), ('sql_invoicing',), ('sql_store',), ('sys',), ('world',)]\n"
     ]
    }
   ],
   "source": [
    "databases = cursor.fetchall()\n",
    "print(databases)"
   ]
  },
  {
   "cell_type": "markdown",
   "metadata": {},
   "source": [
    "Use `for loop` to loop throgh the results if they are in list or tuple format"
   ]
  },
  {
   "cell_type": "code",
   "execution_count": 8,
   "metadata": {},
   "outputs": [
    {
     "name": "stdout",
     "output_type": "stream",
     "text": [
      "employees\n",
      "information_schema\n",
      "mavenfuzzyfactory\n",
      "mysql\n",
      "performance_schema\n",
      "sakila\n",
      "sql_hr\n",
      "sql_inventory\n",
      "sql_invoicing\n",
      "sql_store\n",
      "sys\n",
      "world\n"
     ]
    }
   ],
   "source": [
    "for i in databases:\n",
    "    print(i[0])"
   ]
  },
  {
   "cell_type": "markdown",
   "metadata": {},
   "source": [
    "- Here is a custom function which return values if the query has `show` or `select` keywords. If it doesn't then it just executes the query.\n",
    "- You can also select the from vaious `fetch` methods in case of query returns some output. Generally there are 3 fetch methods.\n",
    "1. `fetchone()` - only returns one row/record\n",
    "2. `fetchmany(many)` - returns multiple rows/records depending parameter `many` which takes input\n",
    "3. `fetchall()` - returns all the rows/records"
   ]
  },
  {
   "cell_type": "code",
   "execution_count": 9,
   "metadata": {},
   "outputs": [],
   "source": [
    "def query_execute(query, fetch_type=3, fetch_many=10):\n",
    "    substr = ['show', 'select']\n",
    "\n",
    "    if any(x in query.lower() for x in substr):\n",
    "\n",
    "        if isinstance(fetch_type, int) == True:\n",
    "\n",
    "            if isinstance(fetch_many, int) == True:\n",
    "\n",
    "                if fetch_type == 1:\n",
    "                    qexecute = cursor.execute(query)\n",
    "                    qfetch = cursor.fetchone()\n",
    "                    return [i for i in qfetch]\n",
    "\n",
    "                elif fetch_type == 2:\n",
    "                    qexecute = cursor.execute(query)\n",
    "                    qfetch = cursor.fetchmany(fetch_many)\n",
    "                    return [i for i in qfetch]\n",
    "\n",
    "                elif fetch_type == 3:\n",
    "                    qexecute = cursor.execute(query)\n",
    "                    qfetch = cursor.fetchall()\n",
    "                    return [i for i in qfetch]\n",
    "\n",
    "                else:\n",
    "                    error =  \"Enter these fetch_type - '1' for fetchone(), '2' for fetchmany() and 3 for fetchall()\"\n",
    "                    return error \n",
    "\n",
    "            else:\n",
    "                return 'fetch_many is {}, it should be integer value'.format(type(fetch_many).__name__)                    \n",
    "\n",
    "        else:\n",
    "            return 'fetch_type is {}, it should be integer value'.format(type(fetch_type).__name__)\n",
    "\n",
    "    else:\n",
    "        qexecute = cursor.execute(query)        \n",
    "        return qexecute"
   ]
  },
  {
   "cell_type": "markdown",
   "metadata": {},
   "source": [
    "Select and use `mavenfuzzyfactory` for the analysis "
   ]
  },
  {
   "cell_type": "code",
   "execution_count": 10,
   "metadata": {},
   "outputs": [],
   "source": [
    "query_execute('''USE mavenfuzzyfactory''')"
   ]
  },
  {
   "cell_type": "markdown",
   "metadata": {},
   "source": [
    "List out table names in the `mavenfuzzyfactory` database"
   ]
  },
  {
   "cell_type": "code",
   "execution_count": 11,
   "metadata": {},
   "outputs": [
    {
     "data": {
      "text/plain": [
       "[('order_item_refunds',),\n",
       " ('order_items',),\n",
       " ('orders',),\n",
       " ('products',),\n",
       " ('website_pageviews',),\n",
       " ('website_sessions',)]"
      ]
     },
     "execution_count": 11,
     "metadata": {},
     "output_type": "execute_result"
    }
   ],
   "source": [
    "query_execute('''SHOW TABLES''')"
   ]
  },
  {
   "cell_type": "markdown",
   "metadata": {},
   "source": [
    "Print first 2 rows from the orders table."
   ]
  },
  {
   "cell_type": "code",
   "execution_count": 12,
   "metadata": {},
   "outputs": [
    {
     "data": {
      "text/plain": [
       "[(1,\n",
       "  datetime.datetime(2012, 3, 19, 8, 4, 16),\n",
       "  1,\n",
       "  0,\n",
       "  'gsearch',\n",
       "  'nonbrand',\n",
       "  'g_ad_1',\n",
       "  'mobile',\n",
       "  'https://www.gsearch.com'),\n",
       " (2,\n",
       "  datetime.datetime(2012, 3, 19, 8, 16, 49),\n",
       "  2,\n",
       "  0,\n",
       "  'gsearch',\n",
       "  'nonbrand',\n",
       "  'g_ad_1',\n",
       "  'desktop',\n",
       "  'https://www.gsearch.com')]"
      ]
     },
     "execution_count": 12,
     "metadata": {},
     "output_type": "execute_result"
    }
   ],
   "source": [
    "query_execute('''SELECT * FROM website_sessions''', fetch_type=2, fetch_many=2)"
   ]
  },
  {
   "cell_type": "markdown",
   "metadata": {},
   "source": [
    "### **Important**"
   ]
  },
  {
   "cell_type": "markdown",
   "metadata": {},
   "source": [
    "- Fetch method for fetching data from MySQL server to python for analysis is not suitableas it returns list of tuples where values in tuplers are rows for each column.\n",
    "\n",
    "- Another better alternative is to use `read_sql()` function in `Pandas` and read SQL data into pandas dataframe. Most important paramters are `sq' for sql statement and `con` for connection to MySQL server.\n",
    "- More: https://pandas.pydata.org/pandas-docs/stable/reference/api/pandas.read_sql.html\n"
   ]
  },
  {
   "cell_type": "markdown",
   "metadata": {},
   "source": [
    "Read `orders` table and return as dataframe."
   ]
  },
  {
   "cell_type": "code",
   "execution_count": 13,
   "metadata": {},
   "outputs": [
    {
     "data": {
      "text/html": [
       "<div>\n",
       "<style scoped>\n",
       "    .dataframe tbody tr th:only-of-type {\n",
       "        vertical-align: middle;\n",
       "    }\n",
       "\n",
       "    .dataframe tbody tr th {\n",
       "        vertical-align: top;\n",
       "    }\n",
       "\n",
       "    .dataframe thead th {\n",
       "        text-align: right;\n",
       "    }\n",
       "</style>\n",
       "<table border=\"1\" class=\"dataframe\">\n",
       "  <thead>\n",
       "    <tr style=\"text-align: right;\">\n",
       "      <th></th>\n",
       "      <th>order_id</th>\n",
       "      <th>created_at</th>\n",
       "      <th>website_session_id</th>\n",
       "      <th>user_id</th>\n",
       "      <th>primary_product_id</th>\n",
       "      <th>items_purchased</th>\n",
       "      <th>price_usd</th>\n",
       "      <th>cogs_usd</th>\n",
       "    </tr>\n",
       "  </thead>\n",
       "  <tbody>\n",
       "    <tr>\n",
       "      <th>0</th>\n",
       "      <td>1</td>\n",
       "      <td>2012-03-19 10:42:46</td>\n",
       "      <td>20</td>\n",
       "      <td>20</td>\n",
       "      <td>1</td>\n",
       "      <td>1</td>\n",
       "      <td>49.99</td>\n",
       "      <td>19.49</td>\n",
       "    </tr>\n",
       "    <tr>\n",
       "      <th>1</th>\n",
       "      <td>2</td>\n",
       "      <td>2012-03-19 19:27:37</td>\n",
       "      <td>104</td>\n",
       "      <td>104</td>\n",
       "      <td>1</td>\n",
       "      <td>1</td>\n",
       "      <td>49.99</td>\n",
       "      <td>19.49</td>\n",
       "    </tr>\n",
       "    <tr>\n",
       "      <th>2</th>\n",
       "      <td>3</td>\n",
       "      <td>2012-03-20 06:44:45</td>\n",
       "      <td>147</td>\n",
       "      <td>147</td>\n",
       "      <td>1</td>\n",
       "      <td>1</td>\n",
       "      <td>49.99</td>\n",
       "      <td>19.49</td>\n",
       "    </tr>\n",
       "    <tr>\n",
       "      <th>3</th>\n",
       "      <td>4</td>\n",
       "      <td>2012-03-20 09:41:45</td>\n",
       "      <td>160</td>\n",
       "      <td>160</td>\n",
       "      <td>1</td>\n",
       "      <td>1</td>\n",
       "      <td>49.99</td>\n",
       "      <td>19.49</td>\n",
       "    </tr>\n",
       "    <tr>\n",
       "      <th>4</th>\n",
       "      <td>5</td>\n",
       "      <td>2012-03-20 11:28:15</td>\n",
       "      <td>177</td>\n",
       "      <td>177</td>\n",
       "      <td>1</td>\n",
       "      <td>1</td>\n",
       "      <td>49.99</td>\n",
       "      <td>19.49</td>\n",
       "    </tr>\n",
       "  </tbody>\n",
       "</table>\n",
       "</div>"
      ],
      "text/plain": [
       "   order_id          created_at  website_session_id  user_id  \\\n",
       "0         1 2012-03-19 10:42:46                  20       20   \n",
       "1         2 2012-03-19 19:27:37                 104      104   \n",
       "2         3 2012-03-20 06:44:45                 147      147   \n",
       "3         4 2012-03-20 09:41:45                 160      160   \n",
       "4         5 2012-03-20 11:28:15                 177      177   \n",
       "\n",
       "   primary_product_id  items_purchased  price_usd  cogs_usd  \n",
       "0                   1                1      49.99     19.49  \n",
       "1                   1                1      49.99     19.49  \n",
       "2                   1                1      49.99     19.49  \n",
       "3                   1                1      49.99     19.49  \n",
       "4                   1                1      49.99     19.49  "
      ]
     },
     "execution_count": 13,
     "metadata": {},
     "output_type": "execute_result"
    }
   ],
   "source": [
    "sql = 'SELECT * FROM orders'\n",
    "df_orders = pd.read_sql(sql=sql, con=db)\n",
    "df_orders.head()"
   ]
  },
  {
   "cell_type": "code",
   "execution_count": 14,
   "metadata": {},
   "outputs": [
    {
     "data": {
      "text/plain": [
       "(32313, 8)"
      ]
     },
     "execution_count": 14,
     "metadata": {},
     "output_type": "execute_result"
    }
   ],
   "source": [
    "# check the shape of dataframe\n",
    "df_orders.shape"
   ]
  },
  {
   "cell_type": "markdown",
   "metadata": {},
   "source": [
    "Create orders summary by product id"
   ]
  },
  {
   "cell_type": "code",
   "execution_count": 15,
   "metadata": {},
   "outputs": [],
   "source": [
    "filter_cols = ['primary_product_id', 'user_id', 'items_purchased', 'price_usd']\n",
    "agg_cols = {'user_id': 'count',\n",
    "            'items_purchased':'sum',\n",
    "            'price_usd': 'sum'\n",
    "           }\n",
    "df_orders_price_filter = df_orders[filter_cols].groupby('primary_product_id', as_index=False).agg(agg_cols)"
   ]
  },
  {
   "cell_type": "code",
   "execution_count": 16,
   "metadata": {},
   "outputs": [
    {
     "data": {
      "text/html": [
       "<div>\n",
       "<style scoped>\n",
       "    .dataframe tbody tr th:only-of-type {\n",
       "        vertical-align: middle;\n",
       "    }\n",
       "\n",
       "    .dataframe tbody tr th {\n",
       "        vertical-align: top;\n",
       "    }\n",
       "\n",
       "    .dataframe thead th {\n",
       "        text-align: right;\n",
       "    }\n",
       "</style>\n",
       "<table border=\"1\" class=\"dataframe\">\n",
       "  <thead>\n",
       "    <tr style=\"text-align: right;\">\n",
       "      <th></th>\n",
       "      <th>primary_product_id</th>\n",
       "      <th>user_id</th>\n",
       "      <th>items_purchased</th>\n",
       "      <th>price_usd</th>\n",
       "    </tr>\n",
       "  </thead>\n",
       "  <tbody>\n",
       "    <tr>\n",
       "      <th>0</th>\n",
       "      <td>1</td>\n",
       "      <td>23861</td>\n",
       "      <td>29618</td>\n",
       "      <td>1419767.82</td>\n",
       "    </tr>\n",
       "    <tr>\n",
       "      <th>1</th>\n",
       "      <td>2</td>\n",
       "      <td>4803</td>\n",
       "      <td>5682</td>\n",
       "      <td>318109.18</td>\n",
       "    </tr>\n",
       "    <tr>\n",
       "      <th>2</th>\n",
       "      <td>3</td>\n",
       "      <td>3068</td>\n",
       "      <td>4097</td>\n",
       "      <td>180857.03</td>\n",
       "    </tr>\n",
       "    <tr>\n",
       "      <th>3</th>\n",
       "      <td>4</td>\n",
       "      <td>581</td>\n",
       "      <td>628</td>\n",
       "      <td>19775.72</td>\n",
       "    </tr>\n",
       "  </tbody>\n",
       "</table>\n",
       "</div>"
      ],
      "text/plain": [
       "   primary_product_id  user_id  items_purchased   price_usd\n",
       "0                   1    23861            29618  1419767.82\n",
       "1                   2     4803             5682   318109.18\n",
       "2                   3     3068             4097   180857.03\n",
       "3                   4      581              628    19775.72"
      ]
     },
     "execution_count": 16,
     "metadata": {},
     "output_type": "execute_result"
    }
   ],
   "source": [
    "df_orders_price_filter"
   ]
  },
  {
   "cell_type": "markdown",
   "metadata": {},
   "source": [
    "Save summary data to excel or csv"
   ]
  },
  {
   "cell_type": "code",
   "execution_count": 17,
   "metadata": {},
   "outputs": [],
   "source": [
    "# with pd.ExcelWriter('products_orders_summary.xlsx', \n",
    "#                     options={'encoding':'utf-8', 'engine':'openpyxl'}) as writer:\n",
    "#     df_orders_price_filter.to_excel(writer, index=False, sheet_name='orders_summary')"
   ]
  },
  {
   "cell_type": "code",
   "execution_count": 18,
   "metadata": {},
   "outputs": [],
   "source": [
    "df_orders_price_filter.to_csv('products_orders_summary.csv', index=False, encoding='utf-8')"
   ]
  }
 ],
 "metadata": {
  "kernelspec": {
   "display_name": "Python 3",
   "language": "python",
   "name": "python3"
  },
  "language_info": {
   "codemirror_mode": {
    "name": "ipython",
    "version": 3
   },
   "file_extension": ".py",
   "mimetype": "text/x-python",
   "name": "python",
   "nbconvert_exporter": "python",
   "pygments_lexer": "ipython3",
   "version": "3.8.5"
  }
 },
 "nbformat": 4,
 "nbformat_minor": 4
}
